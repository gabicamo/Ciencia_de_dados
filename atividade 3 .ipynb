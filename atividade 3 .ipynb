{
 "cells": [
  {
   "cell_type": "markdown",
   "id": "5945ca5e-8c69-4a3c-a21f-4bff4c6837b5",
   "metadata": {},
   "source": [
    "# Exercício 3\n",
    "\n"
   ]
  },
  {
   "cell_type": "markdown",
   "id": "aa173655-8749-464d-9762-7bf1208c7eff",
   "metadata": {
    "tags": []
   },
   "source": [
    "## 1"
   ]
  },
  {
   "cell_type": "code",
   "execution_count": 6,
   "id": "164c97bd-ebfd-41fe-96fd-fc8e6bf567c6",
   "metadata": {
    "tags": []
   },
   "outputs": [
    {
     "name": "stdout",
     "output_type": "stream",
     "text": [
      "Digite as notas do aluno\n"
     ]
    },
    {
     "name": "stdin",
     "output_type": "stream",
     "text": [
      "Nota 1:  7\n",
      "Nota 2:  10\n"
     ]
    },
    {
     "name": "stdout",
     "output_type": "stream",
     "text": [
      "Aprovado\n"
     ]
    }
   ],
   "source": [
    "def media(nota1, nota2):\n",
    "    media = (nota1 + nota2) / 2\n",
    "    if media == 10:\n",
    "        print(\"Aprovado com Distinção\")\n",
    "    elif media >= 7:\n",
    "        print(\"Aprovado\")\n",
    "    else:\n",
    "        print(\"Reprovado\")\n",
    "\n",
    "print(\"Digite as notas do aluno\")\n",
    "nota1 = float(input(\"Nota 1: \"))\n",
    "nota2 = float(input(\"Nota 2: \"))\n",
    "media(nota1, nota2)"
   ]
  },
  {
   "cell_type": "markdown",
   "id": "b54254f4-95d1-4dd5-b8ca-67a63eb91a9d",
   "metadata": {},
   "source": [
    "## 2"
   ]
  },
  {
   "cell_type": "code",
   "execution_count": 7,
   "id": "40e21e77-00b0-4f5b-b71e-55eee8da8972",
   "metadata": {
    "tags": []
   },
   "outputs": [
    {
     "name": "stdout",
     "output_type": "stream",
     "text": [
      "Digite 3 números\n",
      "1° número:\n"
     ]
    },
    {
     "name": "stdin",
     "output_type": "stream",
     "text": [
      " 4\n"
     ]
    },
    {
     "name": "stdout",
     "output_type": "stream",
     "text": [
      "\n",
      "2° número:\n"
     ]
    },
    {
     "name": "stdin",
     "output_type": "stream",
     "text": [
      " 6\n"
     ]
    },
    {
     "name": "stdout",
     "output_type": "stream",
     "text": [
      "\n",
      "3° número:\n"
     ]
    },
    {
     "name": "stdin",
     "output_type": "stream",
     "text": [
      " 9\n"
     ]
    },
    {
     "name": "stdout",
     "output_type": "stream",
     "text": [
      "\n",
      "O maior número é o 9.0\n",
      "\n",
      "O menor número é o 4.0\n"
     ]
    }
   ],
   "source": [
    "print(\"Digite 3 números\")\n",
    "print(\"1° número:\")\n",
    "num1 = float(input())\n",
    "print(\"\\n2° número:\")\n",
    "num2 = float(input())\n",
    "print(\"\\n3° número:\")\n",
    "num3 = float(input())\n",
    "\n",
    "a = num1\n",
    "b = num2\n",
    "c = num3\n",
    "\n",
    "if num1 > num2 and num1 > num3:\n",
    "  print(f\"\\nO maior número é o {a}\")\n",
    "  if num2 > num3:\n",
    "    print(f\"\\nO menor número é o {c}\")\n",
    "  else:\n",
    "    print(f\"\\nO menor número é o {b}\")\n",
    "\n",
    "elif num2 > num1 and num2 > num3:\n",
    "  print(f\"\\nO maior número é o {b}\")\n",
    "  if num1 > num3:\n",
    "    print(f\"\\nO menor número é o {c}\")\n",
    "  else:\n",
    "    print(f\"\\nO menor número é o {a}\")\n",
    "\n",
    "else:\n",
    "  print(f\"\\nO maior número é o {c}\")\n",
    "  if num1 > num2:\n",
    "    print(f\"\\no menor número é o {b}\")\n",
    "  else:\n",
    "    print(f\"\\nO menor número é o {a}\")"
   ]
  },
  {
   "cell_type": "markdown",
   "id": "5a6977c9-7503-4590-a310-8c4b3bdd5beb",
   "metadata": {
    "tags": []
   },
   "source": [
    "## 3\n"
   ]
  },
  {
   "cell_type": "code",
   "execution_count": 13,
   "id": "f0b11002-be7d-4ef0-9c86-d5c63c471a91",
   "metadata": {
    "tags": []
   },
   "outputs": [
    {
     "name": "stdout",
     "output_type": "stream",
     "text": [
      "Digite um nome: \n"
     ]
    },
    {
     "name": "stdin",
     "output_type": "stream",
     "text": [
      " bibi\n"
     ]
    },
    {
     "name": "stdout",
     "output_type": "stream",
     "text": [
      "\n",
      "Aqui está bibi na vertical em escada:\n",
      "b\n",
      "bi\n",
      "bib\n",
      "bibi\n"
     ]
    }
   ],
   "source": [
    "def nome_em_escada(nome):\n",
    "    i = 0\n",
    "    while i < len(nome):\n",
    "        print(nome[:i + 1])\n",
    "        i += 1\n",
    "\n",
    "print(\"Digite um nome: \")\n",
    "nome = input()\n",
    "print(f\"\\nAqui está {nome} na vertical em escada:\")\n",
    "nome_em_escada(nome)"
   ]
  },
  {
   "cell_type": "markdown",
   "id": "17446beb-8771-4c6e-a3f2-00fc27953eb4",
   "metadata": {
    "tags": []
   },
   "source": [
    "##  4\n"
   ]
  },
  {
   "cell_type": "code",
   "execution_count": 14,
   "id": "b9c6d97d-c854-4816-8f14-0f860bbefd8d",
   "metadata": {
    "tags": []
   },
   "outputs": [
    {
     "name": "stdout",
     "output_type": "stream",
     "text": [
      "Digite o número de termos desejado: \n"
     ]
    },
    {
     "name": "stdin",
     "output_type": "stream",
     "text": [
      " 6\n"
     ]
    },
    {
     "name": "stdout",
     "output_type": "stream",
     "text": [
      "A série de Fibonacci até o 6º termo é: [1, 1, 2, 3, 5, 8]\n"
     ]
    }
   ],
   "source": [
    "def fibonacci(n):\n",
    "    if n <= 0:\n",
    "        print(\"Insira um número inteiro positivo.\")\n",
    "        return\n",
    "\n",
    "    sequencia = [1, 1]\n",
    "\n",
    "    for i in range(2, n):\n",
    "        prox = sequencia[-1] + sequencia[-2]\n",
    "        sequencia.append(prox)\n",
    "\n",
    "    if n == 1:\n",
    "        sequencia = [1]\n",
    "\n",
    "    print(f\"A série de Fibonacci até o {n}º termo é:\", sequencia)\n",
    "\n",
    "\n",
    "print(\"Digite o número de termos desejado: \")\n",
    "n = int(input())\n",
    "fibonacci(n)"
   ]
  },
  {
   "cell_type": "markdown",
   "id": "3804b517-19a8-4aba-851c-469947cace9d",
   "metadata": {},
   "source": [
    "## 5\n"
   ]
  },
  {
   "cell_type": "code",
   "execution_count": 15,
   "id": "c6a72dc8-d520-4f34-bb3e-cdb3ae0adcf6",
   "metadata": {
    "tags": []
   },
   "outputs": [
    {
     "name": "stdout",
     "output_type": "stream",
     "text": [
      "Digite seu nome: \n"
     ]
    },
    {
     "name": "stdin",
     "output_type": "stream",
     "text": [
      " gabrieLa\n"
     ]
    },
    {
     "name": "stdout",
     "output_type": "stream",
     "text": [
      "Digite sua idade: \n"
     ]
    },
    {
     "name": "stdin",
     "output_type": "stream",
     "text": [
      " 22\n"
     ]
    },
    {
     "name": "stdout",
     "output_type": "stream",
     "text": [
      "Digite seu salário: \n"
     ]
    },
    {
     "name": "stdin",
     "output_type": "stream",
     "text": [
      " 20\n"
     ]
    },
    {
     "name": "stdout",
     "output_type": "stream",
     "text": [
      "Digite seu sexo (f/m): \n"
     ]
    },
    {
     "name": "stdin",
     "output_type": "stream",
     "text": [
      " f\n"
     ]
    },
    {
     "name": "stdout",
     "output_type": "stream",
     "text": [
      "Digite seu estado civil (s/c/v/d): \n"
     ]
    },
    {
     "name": "stdin",
     "output_type": "stream",
     "text": [
      " s\n"
     ]
    },
    {
     "name": "stdout",
     "output_type": "stream",
     "text": [
      "Nome: gabrieLa\n",
      "Idade: 22\n",
      "Salário: R$ 20.0\n",
      "Sexo: f\n",
      "Estado Civil: s\n"
     ]
    }
   ],
   "source": [
    "print(\"Digite seu nome: \")\n",
    "name = input()\n",
    "while len(name) <= 3:\n",
    "    print(\"O nome deve ter mais de 3 caracteres. Digite novamente:\")\n",
    "    name = input()\n",
    "\n",
    "print(\"Digite sua idade: \")\n",
    "idade = int(input())\n",
    "\n",
    "while idade < 0 or idade > 150:\n",
    "    print(\"A idade deve estar entre 0 e 150. Digite novamente:\")\n",
    "    idade = int(input())\n",
    "\n",
    "print(\"Digite seu salário: \")\n",
    "salario = float(input())\n",
    "while salario <= 0:\n",
    "    print(\"O salário deve ser maior que zero. Digite novamente:\")\n",
    "    salario = float(input())\n",
    "\n",
    "print(\"Digite seu sexo (f/m): \")\n",
    "sexo = input()\n",
    "while sexo != 'f' and sexo != 'm':\n",
    "    print(\"O sexo deve ser 'f' ou 'm'. Digite novamente:\")\n",
    "    sexo = input()\n",
    "\n",
    "print(\"Digite seu estado civil (s/c/v/d): \")\n",
    "estado_civil = input()\n",
    "while estado_civil != 's' and estado_civil != 'c' and estado_civil != 'v' and estado_civil != 'd':\n",
    "    print(\"O estado civil deve ser 's', 'c', 'v' ou 'd'. Digite novamente:\")\n",
    "    estado_civil = input()\n",
    "\n",
    "print(\"Nome:\", name)\n",
    "print(\"Idade:\", idade)\n",
    "print(\"Salário: R$\", salario)\n",
    "print(\"Sexo:\", sexo)\n",
    "print(\"Estado Civil:\", estado_civil)"
   ]
  },
  {
   "cell_type": "markdown",
   "id": "6af37781-d151-4052-8014-33d8daa503db",
   "metadata": {},
   "source": [
    "# 6"
   ]
  },
  {
   "cell_type": "code",
   "execution_count": 16,
   "id": "280a1a27-f798-4f36-a7d1-eb28a32e24b7",
   "metadata": {
    "tags": []
   },
   "outputs": [
    {
     "name": "stdout",
     "output_type": "stream",
     "text": [
      "Digite um número inteiro: \n"
     ]
    },
    {
     "name": "stdin",
     "output_type": "stream",
     "text": [
      " 30\n"
     ]
    },
    {
     "name": "stdout",
     "output_type": "stream",
     "text": [
      "O 30 não é um número primo.\n"
     ]
    }
   ],
   "source": [
    "print(\"Digite um número inteiro: \")\n",
    "num = int(input())\n",
    "\n",
    "if num <= 1:\n",
    "    print(f\"O {num} não é um número primo.\")\n",
    "\n",
    "else:\n",
    "  i = 0\n",
    "  x = 0\n",
    "  while i < num:\n",
    "   i += 1\n",
    "   resto = num % i\n",
    "   if resto == 0:\n",
    "    x += 1\n",
    "  if x == 2:\n",
    "     print(f\"O {num} é um número primo.\")\n",
    "  else:\n",
    "    print(f\"O {num} não é um número primo.\")"
   ]
  }
 ],
 "metadata": {
  "kernelspec": {
   "display_name": "Python 3 (ipykernel)",
   "language": "python",
   "name": "python3"
  },
  "language_info": {
   "codemirror_mode": {
    "name": "ipython",
    "version": 3
   },
   "file_extension": ".py",
   "mimetype": "text/x-python",
   "name": "python",
   "nbconvert_exporter": "python",
   "pygments_lexer": "ipython3",
   "version": "3.11.5"
  }
 },
 "nbformat": 4,
 "nbformat_minor": 5
}
